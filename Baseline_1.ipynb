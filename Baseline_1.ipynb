{
 "cells": [
  {
   "cell_type": "code",
   "execution_count": 66,
   "id": "ea690ef9",
   "metadata": {},
   "outputs": [],
   "source": [
    "import pandas as pd\n",
    "from sklearn.metrics import ndcg_score\n",
    "import pickle\n",
    "import math"
   ]
  },
  {
   "cell_type": "code",
   "execution_count": null,
   "id": "753dad04",
   "metadata": {},
   "outputs": [],
   "source": []
  },
  {
   "cell_type": "code",
   "execution_count": null,
   "id": "3c65db42",
   "metadata": {},
   "outputs": [],
   "source": []
  },
  {
   "cell_type": "code",
   "execution_count": 2,
   "id": "3ba479a2",
   "metadata": {},
   "outputs": [],
   "source": [
    "\n",
    "hyperparams = {\n",
    "    'batch_size' : 32,\n",
    "    'save_loss_interval' : 5,\n",
    "    'print_interval' : 2,\n",
    "    'save_model_interval' : 20,\n",
    "    'n_epochs' : 50,\n",
    "    'learning_rate' : 0.0005,\n",
    "    'numfeature_use':100,\n",
    "    'dataset_name':'madelon',\n",
    "    'num_intent':5\n",
    "}\n",
    "#'lear"
   ]
  },
  {
   "cell_type": "code",
   "execution_count": 3,
   "id": "ee5d8515",
   "metadata": {},
   "outputs": [],
   "source": [
    "datasetName = hyperparams['dataset_name']"
   ]
  },
  {
   "cell_type": "code",
   "execution_count": 32,
   "id": "51a6cc28",
   "metadata": {},
   "outputs": [],
   "source": [
    "# load in target values\n",
    "fileName = r'data/' + datasetName + '_out' + '.csv'\n",
    "y_df = pd.read_csv(fileName)"
   ]
  },
  {
   "cell_type": "code",
   "execution_count": 33,
   "id": "febd0341",
   "metadata": {},
   "outputs": [
    {
     "data": {
      "text/html": [
       "<div>\n",
       "<style scoped>\n",
       "    .dataframe tbody tr th:only-of-type {\n",
       "        vertical-align: middle;\n",
       "    }\n",
       "\n",
       "    .dataframe tbody tr th {\n",
       "        vertical-align: top;\n",
       "    }\n",
       "\n",
       "    .dataframe thead th {\n",
       "        text-align: right;\n",
       "    }\n",
       "</style>\n",
       "<table border=\"1\" class=\"dataframe\">\n",
       "  <thead>\n",
       "    <tr style=\"text-align: right;\">\n",
       "      <th></th>\n",
       "      <th>Unnamed: 0</th>\n",
       "      <th>f</th>\n",
       "      <th>mi</th>\n",
       "    </tr>\n",
       "  </thead>\n",
       "  <tbody>\n",
       "    <tr>\n",
       "      <th>0</th>\n",
       "      <td>0</td>\n",
       "      <td>V2intent1</td>\n",
       "      <td>0.016170</td>\n",
       "    </tr>\n",
       "    <tr>\n",
       "      <th>1</th>\n",
       "      <td>1</td>\n",
       "      <td>V3intent1</td>\n",
       "      <td>0.022347</td>\n",
       "    </tr>\n",
       "    <tr>\n",
       "      <th>2</th>\n",
       "      <td>2</td>\n",
       "      <td>V4intent1</td>\n",
       "      <td>0.008604</td>\n",
       "    </tr>\n",
       "    <tr>\n",
       "      <th>3</th>\n",
       "      <td>3</td>\n",
       "      <td>V5intent1</td>\n",
       "      <td>0.023077</td>\n",
       "    </tr>\n",
       "    <tr>\n",
       "      <th>4</th>\n",
       "      <td>4</td>\n",
       "      <td>V6intent1</td>\n",
       "      <td>0.006427</td>\n",
       "    </tr>\n",
       "    <tr>\n",
       "      <th>...</th>\n",
       "      <td>...</td>\n",
       "      <td>...</td>\n",
       "      <td>...</td>\n",
       "    </tr>\n",
       "    <tr>\n",
       "      <th>391</th>\n",
       "      <td>391</td>\n",
       "      <td>V96intent4</td>\n",
       "      <td>0.058128</td>\n",
       "    </tr>\n",
       "    <tr>\n",
       "      <th>392</th>\n",
       "      <td>392</td>\n",
       "      <td>V97intent4</td>\n",
       "      <td>0.012774</td>\n",
       "    </tr>\n",
       "    <tr>\n",
       "      <th>393</th>\n",
       "      <td>393</td>\n",
       "      <td>V98intent4</td>\n",
       "      <td>0.051109</td>\n",
       "    </tr>\n",
       "    <tr>\n",
       "      <th>394</th>\n",
       "      <td>394</td>\n",
       "      <td>V99intent4</td>\n",
       "      <td>0.053989</td>\n",
       "    </tr>\n",
       "    <tr>\n",
       "      <th>395</th>\n",
       "      <td>395</td>\n",
       "      <td>V100intent4</td>\n",
       "      <td>0.065421</td>\n",
       "    </tr>\n",
       "  </tbody>\n",
       "</table>\n",
       "<p>396 rows × 3 columns</p>\n",
       "</div>"
      ],
      "text/plain": [
       "     Unnamed: 0            f        mi\n",
       "0             0    V2intent1  0.016170\n",
       "1             1    V3intent1  0.022347\n",
       "2             2    V4intent1  0.008604\n",
       "3             3    V5intent1  0.023077\n",
       "4             4    V6intent1  0.006427\n",
       "..          ...          ...       ...\n",
       "391         391   V96intent4  0.058128\n",
       "392         392   V97intent4  0.012774\n",
       "393         393   V98intent4  0.051109\n",
       "394         394   V99intent4  0.053989\n",
       "395         395  V100intent4  0.065421\n",
       "\n",
       "[396 rows x 3 columns]"
      ]
     },
     "execution_count": 33,
     "metadata": {},
     "output_type": "execute_result"
    }
   ],
   "source": [
    "y_df"
   ]
  },
  {
   "cell_type": "code",
   "execution_count": 34,
   "id": "fc34bea3",
   "metadata": {},
   "outputs": [],
   "source": [
    "fileName = r'data/' + datasetName + '_mask' + '.csv'\n",
    "train_mask_df = pd.read_csv(fileName)"
   ]
  },
  {
   "cell_type": "code",
   "execution_count": 35,
   "id": "f7424782",
   "metadata": {},
   "outputs": [
    {
     "data": {
      "text/html": [
       "<div>\n",
       "<style scoped>\n",
       "    .dataframe tbody tr th:only-of-type {\n",
       "        vertical-align: middle;\n",
       "    }\n",
       "\n",
       "    .dataframe tbody tr th {\n",
       "        vertical-align: top;\n",
       "    }\n",
       "\n",
       "    .dataframe thead th {\n",
       "        text-align: right;\n",
       "    }\n",
       "</style>\n",
       "<table border=\"1\" class=\"dataframe\">\n",
       "  <thead>\n",
       "    <tr style=\"text-align: right;\">\n",
       "      <th></th>\n",
       "      <th>Unnamed: 0</th>\n",
       "      <th>f</th>\n",
       "      <th>mask_val</th>\n",
       "    </tr>\n",
       "  </thead>\n",
       "  <tbody>\n",
       "    <tr>\n",
       "      <th>0</th>\n",
       "      <td>0</td>\n",
       "      <td>V2intent1</td>\n",
       "      <td>False</td>\n",
       "    </tr>\n",
       "    <tr>\n",
       "      <th>1</th>\n",
       "      <td>1</td>\n",
       "      <td>V3intent1</td>\n",
       "      <td>False</td>\n",
       "    </tr>\n",
       "    <tr>\n",
       "      <th>2</th>\n",
       "      <td>2</td>\n",
       "      <td>V4intent1</td>\n",
       "      <td>False</td>\n",
       "    </tr>\n",
       "    <tr>\n",
       "      <th>3</th>\n",
       "      <td>3</td>\n",
       "      <td>V5intent1</td>\n",
       "      <td>False</td>\n",
       "    </tr>\n",
       "    <tr>\n",
       "      <th>4</th>\n",
       "      <td>4</td>\n",
       "      <td>V6intent1</td>\n",
       "      <td>False</td>\n",
       "    </tr>\n",
       "    <tr>\n",
       "      <th>...</th>\n",
       "      <td>...</td>\n",
       "      <td>...</td>\n",
       "      <td>...</td>\n",
       "    </tr>\n",
       "    <tr>\n",
       "      <th>391</th>\n",
       "      <td>391</td>\n",
       "      <td>V96intent4</td>\n",
       "      <td>True</td>\n",
       "    </tr>\n",
       "    <tr>\n",
       "      <th>392</th>\n",
       "      <td>392</td>\n",
       "      <td>V97intent4</td>\n",
       "      <td>True</td>\n",
       "    </tr>\n",
       "    <tr>\n",
       "      <th>393</th>\n",
       "      <td>393</td>\n",
       "      <td>V98intent4</td>\n",
       "      <td>True</td>\n",
       "    </tr>\n",
       "    <tr>\n",
       "      <th>394</th>\n",
       "      <td>394</td>\n",
       "      <td>V99intent4</td>\n",
       "      <td>True</td>\n",
       "    </tr>\n",
       "    <tr>\n",
       "      <th>395</th>\n",
       "      <td>395</td>\n",
       "      <td>V100intent4</td>\n",
       "      <td>True</td>\n",
       "    </tr>\n",
       "  </tbody>\n",
       "</table>\n",
       "<p>396 rows × 3 columns</p>\n",
       "</div>"
      ],
      "text/plain": [
       "     Unnamed: 0            f  mask_val\n",
       "0             0    V2intent1     False\n",
       "1             1    V3intent1     False\n",
       "2             2    V4intent1     False\n",
       "3             3    V5intent1     False\n",
       "4             4    V6intent1     False\n",
       "..          ...          ...       ...\n",
       "391         391   V96intent4      True\n",
       "392         392   V97intent4      True\n",
       "393         393   V98intent4      True\n",
       "394         394   V99intent4      True\n",
       "395         395  V100intent4      True\n",
       "\n",
       "[396 rows x 3 columns]"
      ]
     },
     "execution_count": 35,
     "metadata": {},
     "output_type": "execute_result"
    }
   ],
   "source": [
    "train_mask_df"
   ]
  },
  {
   "cell_type": "code",
   "execution_count": 36,
   "id": "0cbf9bfc",
   "metadata": {},
   "outputs": [],
   "source": [
    "masked = list(train_mask_df[train_mask_df['mask_val'] == False]['f'])"
   ]
  },
  {
   "cell_type": "code",
   "execution_count": 38,
   "id": "b1674cfa",
   "metadata": {},
   "outputs": [],
   "source": [
    "y_df['g'] = y_df['f'].str[:-1]\n"
   ]
  },
  {
   "cell_type": "code",
   "execution_count": 39,
   "id": "b1cdce65",
   "metadata": {},
   "outputs": [],
   "source": [
    "pred = []"
   ]
  },
  {
   "cell_type": "code",
   "execution_count": 40,
   "id": "d64f9981",
   "metadata": {},
   "outputs": [],
   "source": [
    "for m in masked:\n",
    "    avg = y_df.loc[y_df['g'] == m[:-1], 'mi'].mean()\n",
    "    pred.append(avg)"
   ]
  },
  {
   "cell_type": "code",
   "execution_count": 50,
   "id": "dd4c0a59",
   "metadata": {},
   "outputs": [],
   "source": [
    "true = list(y_df['mi'])[:len(pred)]"
   ]
  },
  {
   "cell_type": "code",
   "execution_count": 58,
   "id": "89eb613e",
   "metadata": {},
   "outputs": [
    {
     "name": "stdout",
     "output_type": "stream",
     "text": [
      "ndcg at  5  is = 0.9669794639220434\n",
      "ndcg at  10  is = 0.9754610442685185\n",
      "ndcg at  20  is = 0.9758323677637559\n",
      "ndcg at  50  is = 0.9862283450076221\n",
      "ndcg at  100  is = 0.9933345225282699\n"
     ]
    }
   ],
   "source": [
    "krange = [5,10,20,50,100]\n",
    "for k in krange:\n",
    "    print(\"ndcg at \",k ,\" is =\", ndcg_score([true],[pred],k=k))"
   ]
  },
  {
   "cell_type": "code",
   "execution_count": 59,
   "id": "18c6d978",
   "metadata": {},
   "outputs": [
    {
     "data": {
      "text/plain": [
       "[0.0161699462524421,\n",
       " 0.0223471159196369,\n",
       " 0.008604374825498,\n",
       " 0.0230773050325658,\n",
       " 0.0064273175476374,\n",
       " 0.0191945476111768,\n",
       " 0.0017665555704707,\n",
       " 0.0099677301107039,\n",
       " 0.0066424544922857,\n",
       " 0.0197538918395082,\n",
       " 0.0183937513137917,\n",
       " 0.0184575701967168,\n",
       " 0.021425742271522,\n",
       " 0.0089888991270644,\n",
       " 0.0135054109226662,\n",
       " 0.008761058803197,\n",
       " 0.0171896087639094,\n",
       " 0.0118033014127126,\n",
       " 0.0084213359706179,\n",
       " 0.010455988668109,\n",
       " 0.0109095634967789,\n",
       " 0.004695622285262,\n",
       " 0.0086720900458208,\n",
       " 0.0184145039331273,\n",
       " 0.0162055269430189,\n",
       " 0.0155239932772276,\n",
       " 0.0073135053933269,\n",
       " 0.0103784916087097,\n",
       " 0.0135864042843709,\n",
       " 0.0060031967737253,\n",
       " 0.0168844792956978,\n",
       " 0.0200475243993823,\n",
       " 0.020194588447595,\n",
       " 0.0144653855364037,\n",
       " 0.0216035616285524,\n",
       " 0.0112030020233489,\n",
       " 0.0132182222827551,\n",
       " 0.0079325813736027,\n",
       " 0.0021040324660131,\n",
       " 0.0037248484598439,\n",
       " 0.0186724828971745,\n",
       " 0.0155593755628684,\n",
       " 0.0103300565894302,\n",
       " 0.0216013268317824,\n",
       " 0.0156411441070791,\n",
       " 0.0179489527399064,\n",
       " 0.0192725848046458,\n",
       " 0.0184020158195042,\n",
       " 0.0135561039517188,\n",
       " 0.021569972493958,\n",
       " 0.0203877054097621,\n",
       " 0.0113314161006318,\n",
       " 0.0059841020533684,\n",
       " 0.0170132118280622,\n",
       " 0.0123368284780957,\n",
       " 0.0229500593414934,\n",
       " 0.0194114581588694,\n",
       " 0.0210218038815966,\n",
       " 0.0124547080862072,\n",
       " 0.0121199995628197,\n",
       " 0.0058716566561276,\n",
       " 0.0209790745488808,\n",
       " 0.0049058405059509,\n",
       " 0.0419589994432078,\n",
       " 0.0192760324493144,\n",
       " 0.0233553030054338,\n",
       " 0.0151761109427735,\n",
       " 0.0052903324952827,\n",
       " 0.0081246934232122,\n",
       " 0.0219934478861961,\n",
       " 0.0143542051392988,\n",
       " 0.0129020033186213,\n",
       " 0.0183822401693961,\n",
       " 0.005085673057789,\n",
       " 0.0220872342513702,\n",
       " 0.0096091579281913,\n",
       " 0.0147808550370852,\n",
       " 0.0200170397250785,\n",
       " 0.0132794791614976,\n",
       " 0.01398978108852,\n",
       " 0.0200820633749531,\n",
       " 0.0156053976928474,\n",
       " 0.0096066772144761,\n",
       " 0.0184560145611764,\n",
       " 0.0167378961603082,\n",
       " 0.0051335590184076,\n",
       " 0.012495194532802,\n",
       " 0.0047917816566635,\n",
       " 0.024465753274238,\n",
       " 0.0013805534454538,\n",
       " 0.0180944570041804,\n",
       " 0.0121865400539894,\n",
       " 0.0120946587054948,\n",
       " 0.0051816292063365,\n",
       " 0.0156765090485263,\n",
       " 0.0052035263666918,\n",
       " 0.0141899346106933,\n",
       " 0.0117060779886778,\n",
       " 0.0222216806842198]"
      ]
     },
     "execution_count": 59,
     "metadata": {},
     "output_type": "execute_result"
    }
   ],
   "source": [
    "true"
   ]
  },
  {
   "cell_type": "code",
   "execution_count": 70,
   "id": "84e34b35",
   "metadata": {},
   "outputs": [
    {
     "data": {
      "text/plain": [
       "99"
      ]
     },
     "execution_count": 70,
     "metadata": {},
     "output_type": "execute_result"
    }
   ],
   "source": [
    "len(pred)"
   ]
  },
  {
   "cell_type": "code",
   "execution_count": 73,
   "id": "f2f33b2b",
   "metadata": {},
   "outputs": [],
   "source": [
    "\n",
    "fname='data/input.pickle'\n",
    "with open(fname, 'rb') as handle:\n",
    "    inRank = pickle.load(handle)"
   ]
  },
  {
   "cell_type": "code",
   "execution_count": 74,
   "id": "d76e651b",
   "metadata": {},
   "outputs": [],
   "source": [
    "fname='data/result.pickle'\n",
    "with open(fname, 'rb') as handle:\n",
    "    outRank = pickle.load(handle)"
   ]
  },
  {
   "cell_type": "code",
   "execution_count": null,
   "id": "210e9dfe",
   "metadata": {},
   "outputs": [],
   "source": []
  },
  {
   "cell_type": "code",
   "execution_count": null,
   "id": "c278acb0",
   "metadata": {},
   "outputs": [],
   "source": []
  },
  {
   "cell_type": "code",
   "execution_count": null,
   "id": "43d8826a",
   "metadata": {},
   "outputs": [],
   "source": []
  }
 ],
 "metadata": {
  "kernelspec": {
   "display_name": "Python 3 (ipykernel)",
   "language": "python",
   "name": "python3"
  },
  "language_info": {
   "codemirror_mode": {
    "name": "ipython",
    "version": 3
   },
   "file_extension": ".py",
   "mimetype": "text/x-python",
   "name": "python",
   "nbconvert_exporter": "python",
   "pygments_lexer": "ipython3",
   "version": "3.7.16"
  }
 },
 "nbformat": 4,
 "nbformat_minor": 5
}
